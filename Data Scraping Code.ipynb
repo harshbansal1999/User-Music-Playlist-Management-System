{
 "cells": [
  {
   "cell_type": "markdown",
   "metadata": {},
   "source": [
    "# Loading the libraries"
   ]
  },
  {
   "cell_type": "code",
   "execution_count": null,
   "metadata": {},
   "outputs": [],
   "source": [
    "from bs4 import BeautifulSoup\n",
    "import urllib\n",
    "from urllib.request import urlopen\n",
    "from fake_useragent import UserAgent\n",
    "from selenium import webdriver\n",
    "import requests\n",
    "import pandas as pd\n",
    "from textblob import TextBlob\n",
    "import re\n",
    "import numpy as np\n",
    "import string"
   ]
  },
  {
   "cell_type": "code",
   "execution_count": 2,
   "metadata": {},
   "outputs": [
    {
     "data": {
      "text/html": [
       "<div>\n",
       "<style scoped>\n",
       "    .dataframe tbody tr th:only-of-type {\n",
       "        vertical-align: middle;\n",
       "    }\n",
       "\n",
       "    .dataframe tbody tr th {\n",
       "        vertical-align: top;\n",
       "    }\n",
       "\n",
       "    .dataframe thead th {\n",
       "        text-align: right;\n",
       "    }\n",
       "</style>\n",
       "<table border=\"1\" class=\"dataframe\">\n",
       "  <thead>\n",
       "    <tr style=\"text-align: right;\">\n",
       "      <th></th>\n",
       "      <th>Index</th>\n",
       "      <th>Artist Name</th>\n",
       "      <th>Song Name</th>\n",
       "      <th>Lyrics Link</th>\n",
       "    </tr>\n",
       "  </thead>\n",
       "  <tbody>\n",
       "  </tbody>\n",
       "</table>\n",
       "</div>"
      ],
      "text/plain": [
       "Empty DataFrame\n",
       "Columns: [Index, Artist Name, Song Name, Lyrics Link]\n",
       "Index: []"
      ]
     },
     "execution_count": 2,
     "metadata": {},
     "output_type": "execute_result"
    }
   ],
   "source": [
    "l=list(string.ascii_lowercase)\n",
    "df=pd.DataFrame(columns=['Index','Artist Name','Song Name','Lyrics Link'])\n",
    "df.head()"
   ]
  },
  {
   "cell_type": "markdown",
   "metadata": {},
   "source": [
    "# Scraping the data from website like song name, artist name and lyrics"
   ]
  },
  {
   "cell_type": "code",
   "execution_count": 3,
   "metadata": {},
   "outputs": [],
   "source": [
    "ua = UserAgent()"
   ]
  },
  {
   "cell_type": "code",
   "execution_count": 4,
   "metadata": {},
   "outputs": [],
   "source": [
    "ctr=0\n",
    "for z in range(26):\n",
    "    \n",
    "    url='https://www.lyricsmode.com/lyrics/{}'.format(l[z])\n",
    "    response=requests.get(url, {\"User-Agent\": ua.random})\n",
    "    soup=BeautifulSoup(response.text,'lxml')\n",
    "    content=soup.find('div',class_='lm-list')\n",
    "\n",
    "    \n",
    "    for i in content.find_all('div',class_='lm-list__row'):\n",
    "        j=i.find('div',class_='lm-list__cell lm-list__cell-subtitle lm-list__cell-subtitle--top')\n",
    "        if(j):\n",
    "            k=j.find('a')\n",
    "            x=k.text.strip()\n",
    "            #print(\"\\t\\t\\t\\t\",k.text.strip())\n",
    "\n",
    "            q=i.find('div',class_='lm-list__cell lm-list__cell-title')\n",
    "            if(q):\n",
    "                w=q.find_all('a')\n",
    "\n",
    "                for s in w:\n",
    "                    df.loc[ctr,'Index']=l[z]\n",
    "                    df.loc[ctr,'Artist Name']=x\n",
    "                    df.loc[ctr,'Song Name']=s.text.strip()\n",
    "                    df.loc[ctr,'Lyrics Link']='https://www.lyricsmode.com'+s['href']\n",
    "                    #print(s.text.strip())\n",
    "                    ctr=ctr+1\n",
    "\n",
    "        #print('--------------------------------------------------------------------------------------------------')"
   ]
  },
  {
   "cell_type": "code",
   "execution_count": 5,
   "metadata": {},
   "outputs": [
    {
     "data": {
      "text/plain": [
       "(4062, 4)"
      ]
     },
     "execution_count": 5,
     "metadata": {},
     "output_type": "execute_result"
    }
   ],
   "source": [
    "df.shape"
   ]
  },
  {
   "cell_type": "code",
   "execution_count": 6,
   "metadata": {},
   "outputs": [
    {
     "data": {
      "text/html": [
       "<div>\n",
       "<style scoped>\n",
       "    .dataframe tbody tr th:only-of-type {\n",
       "        vertical-align: middle;\n",
       "    }\n",
       "\n",
       "    .dataframe tbody tr th {\n",
       "        vertical-align: top;\n",
       "    }\n",
       "\n",
       "    .dataframe thead th {\n",
       "        text-align: right;\n",
       "    }\n",
       "</style>\n",
       "<table border=\"1\" class=\"dataframe\">\n",
       "  <thead>\n",
       "    <tr style=\"text-align: right;\">\n",
       "      <th></th>\n",
       "      <th>Index</th>\n",
       "      <th>Artist Name</th>\n",
       "      <th>Song Name</th>\n",
       "      <th>Lyrics Link</th>\n",
       "    </tr>\n",
       "  </thead>\n",
       "  <tbody>\n",
       "    <tr>\n",
       "      <td>4057</td>\n",
       "      <td>z</td>\n",
       "      <td>Zendaya lyrics</td>\n",
       "      <td>X</td>\n",
       "      <td>https://www.lyricsmode.com/lyrics/z/zendaya/x....</td>\n",
       "    </tr>\n",
       "    <tr>\n",
       "      <td>4058</td>\n",
       "      <td>z</td>\n",
       "      <td>Zuckerbaby lyrics</td>\n",
       "      <td>Andromeda</td>\n",
       "      <td>https://www.lyricsmode.com/lyrics/z/zuckerbaby...</td>\n",
       "    </tr>\n",
       "    <tr>\n",
       "      <td>4059</td>\n",
       "      <td>z</td>\n",
       "      <td>Ziggy lyrics</td>\n",
       "      <td>Listen To The Music</td>\n",
       "      <td>https://www.lyricsmode.com/lyrics/z/ziggy/list...</td>\n",
       "    </tr>\n",
       "    <tr>\n",
       "      <td>4060</td>\n",
       "      <td>z</td>\n",
       "      <td>Zak Abel lyrics</td>\n",
       "      <td>The River</td>\n",
       "      <td>https://www.lyricsmode.com/lyrics/z/zak_abel/t...</td>\n",
       "    </tr>\n",
       "    <tr>\n",
       "      <td>4061</td>\n",
       "      <td>z</td>\n",
       "      <td>Zak Abel lyrics</td>\n",
       "      <td>Beautiful Life</td>\n",
       "      <td>https://www.lyricsmode.com/lyrics/z/zak_abel/b...</td>\n",
       "    </tr>\n",
       "  </tbody>\n",
       "</table>\n",
       "</div>"
      ],
      "text/plain": [
       "     Index        Artist Name            Song Name  \\\n",
       "4057     z     Zendaya lyrics                    X   \n",
       "4058     z  Zuckerbaby lyrics            Andromeda   \n",
       "4059     z       Ziggy lyrics  Listen To The Music   \n",
       "4060     z    Zak Abel lyrics            The River   \n",
       "4061     z    Zak Abel lyrics       Beautiful Life   \n",
       "\n",
       "                                            Lyrics Link  \n",
       "4057  https://www.lyricsmode.com/lyrics/z/zendaya/x....  \n",
       "4058  https://www.lyricsmode.com/lyrics/z/zuckerbaby...  \n",
       "4059  https://www.lyricsmode.com/lyrics/z/ziggy/list...  \n",
       "4060  https://www.lyricsmode.com/lyrics/z/zak_abel/t...  \n",
       "4061  https://www.lyricsmode.com/lyrics/z/zak_abel/b...  "
      ]
     },
     "execution_count": 6,
     "metadata": {},
     "output_type": "execute_result"
    }
   ],
   "source": [
    "df.tail()"
   ]
  },
  {
   "cell_type": "code",
   "execution_count": 7,
   "metadata": {},
   "outputs": [
    {
     "data": {
      "text/html": [
       "<div>\n",
       "<style scoped>\n",
       "    .dataframe tbody tr th:only-of-type {\n",
       "        vertical-align: middle;\n",
       "    }\n",
       "\n",
       "    .dataframe tbody tr th {\n",
       "        vertical-align: top;\n",
       "    }\n",
       "\n",
       "    .dataframe thead th {\n",
       "        text-align: right;\n",
       "    }\n",
       "</style>\n",
       "<table border=\"1\" class=\"dataframe\">\n",
       "  <thead>\n",
       "    <tr style=\"text-align: right;\">\n",
       "      <th></th>\n",
       "      <th>Index</th>\n",
       "      <th>Artist Name</th>\n",
       "      <th>Song Name</th>\n",
       "      <th>Lyrics Link</th>\n",
       "    </tr>\n",
       "  </thead>\n",
       "  <tbody>\n",
       "    <tr>\n",
       "      <td>0</td>\n",
       "      <td>a</td>\n",
       "      <td>Atif Aslam lyrics</td>\n",
       "      <td>Aadat</td>\n",
       "      <td>https://www.lyricsmode.com/lyrics/a/atif_aslam...</td>\n",
       "    </tr>\n",
       "    <tr>\n",
       "      <td>1</td>\n",
       "      <td>a</td>\n",
       "      <td>Atif Aslam lyrics</td>\n",
       "      <td>Tere Liye</td>\n",
       "      <td>https://www.lyricsmode.com/lyrics/a/atif_aslam...</td>\n",
       "    </tr>\n",
       "    <tr>\n",
       "      <td>2</td>\n",
       "      <td>a</td>\n",
       "      <td>Atif Aslam lyrics</td>\n",
       "      <td>Tera Hone Laga Hoon</td>\n",
       "      <td>https://www.lyricsmode.com/lyrics/a/atif_aslam...</td>\n",
       "    </tr>\n",
       "    <tr>\n",
       "      <td>3</td>\n",
       "      <td>a</td>\n",
       "      <td>Atif Aslam lyrics</td>\n",
       "      <td>Woh Lamhe</td>\n",
       "      <td>https://www.lyricsmode.com/lyrics/a/atif_aslam...</td>\n",
       "    </tr>\n",
       "    <tr>\n",
       "      <td>4</td>\n",
       "      <td>a</td>\n",
       "      <td>Atif Aslam lyrics</td>\n",
       "      <td>Jeena Jeena</td>\n",
       "      <td>https://www.lyricsmode.com/lyrics/a/atif_aslam...</td>\n",
       "    </tr>\n",
       "  </tbody>\n",
       "</table>\n",
       "</div>"
      ],
      "text/plain": [
       "  Index        Artist Name            Song Name  \\\n",
       "0     a  Atif Aslam lyrics                Aadat   \n",
       "1     a  Atif Aslam lyrics            Tere Liye   \n",
       "2     a  Atif Aslam lyrics  Tera Hone Laga Hoon   \n",
       "3     a  Atif Aslam lyrics            Woh Lamhe   \n",
       "4     a  Atif Aslam lyrics          Jeena Jeena   \n",
       "\n",
       "                                         Lyrics Link  \n",
       "0  https://www.lyricsmode.com/lyrics/a/atif_aslam...  \n",
       "1  https://www.lyricsmode.com/lyrics/a/atif_aslam...  \n",
       "2  https://www.lyricsmode.com/lyrics/a/atif_aslam...  \n",
       "3  https://www.lyricsmode.com/lyrics/a/atif_aslam...  \n",
       "4  https://www.lyricsmode.com/lyrics/a/atif_aslam...  "
      ]
     },
     "execution_count": 7,
     "metadata": {},
     "output_type": "execute_result"
    }
   ],
   "source": [
    "df.head()"
   ]
  },
  {
   "cell_type": "code",
   "execution_count": 8,
   "metadata": {},
   "outputs": [
    {
     "data": {
      "text/html": [
       "<div>\n",
       "<style scoped>\n",
       "    .dataframe tbody tr th:only-of-type {\n",
       "        vertical-align: middle;\n",
       "    }\n",
       "\n",
       "    .dataframe tbody tr th {\n",
       "        vertical-align: top;\n",
       "    }\n",
       "\n",
       "    .dataframe thead th {\n",
       "        text-align: right;\n",
       "    }\n",
       "</style>\n",
       "<table border=\"1\" class=\"dataframe\">\n",
       "  <thead>\n",
       "    <tr style=\"text-align: right;\">\n",
       "      <th></th>\n",
       "      <th>Index</th>\n",
       "      <th>Artist Name</th>\n",
       "      <th>Song Name</th>\n",
       "      <th>Lyrics Link</th>\n",
       "    </tr>\n",
       "  </thead>\n",
       "  <tbody>\n",
       "    <tr>\n",
       "      <td>0</td>\n",
       "      <td>a</td>\n",
       "      <td>Atif Aslam</td>\n",
       "      <td>Aadat</td>\n",
       "      <td>https://www.lyricsmode.com/lyrics/a/atif_aslam...</td>\n",
       "    </tr>\n",
       "    <tr>\n",
       "      <td>1</td>\n",
       "      <td>a</td>\n",
       "      <td>Atif Aslam</td>\n",
       "      <td>Tere Liye</td>\n",
       "      <td>https://www.lyricsmode.com/lyrics/a/atif_aslam...</td>\n",
       "    </tr>\n",
       "    <tr>\n",
       "      <td>2</td>\n",
       "      <td>a</td>\n",
       "      <td>Atif Aslam</td>\n",
       "      <td>Tera Hone Laga Hoon</td>\n",
       "      <td>https://www.lyricsmode.com/lyrics/a/atif_aslam...</td>\n",
       "    </tr>\n",
       "    <tr>\n",
       "      <td>3</td>\n",
       "      <td>a</td>\n",
       "      <td>Atif Aslam</td>\n",
       "      <td>Woh Lamhe</td>\n",
       "      <td>https://www.lyricsmode.com/lyrics/a/atif_aslam...</td>\n",
       "    </tr>\n",
       "    <tr>\n",
       "      <td>4</td>\n",
       "      <td>a</td>\n",
       "      <td>Atif Aslam</td>\n",
       "      <td>Jeena Jeena</td>\n",
       "      <td>https://www.lyricsmode.com/lyrics/a/atif_aslam...</td>\n",
       "    </tr>\n",
       "  </tbody>\n",
       "</table>\n",
       "</div>"
      ],
      "text/plain": [
       "  Index Artist Name            Song Name  \\\n",
       "0     a  Atif Aslam                Aadat   \n",
       "1     a  Atif Aslam            Tere Liye   \n",
       "2     a  Atif Aslam  Tera Hone Laga Hoon   \n",
       "3     a  Atif Aslam            Woh Lamhe   \n",
       "4     a  Atif Aslam          Jeena Jeena   \n",
       "\n",
       "                                         Lyrics Link  \n",
       "0  https://www.lyricsmode.com/lyrics/a/atif_aslam...  \n",
       "1  https://www.lyricsmode.com/lyrics/a/atif_aslam...  \n",
       "2  https://www.lyricsmode.com/lyrics/a/atif_aslam...  \n",
       "3  https://www.lyricsmode.com/lyrics/a/atif_aslam...  \n",
       "4  https://www.lyricsmode.com/lyrics/a/atif_aslam...  "
      ]
     },
     "execution_count": 8,
     "metadata": {},
     "output_type": "execute_result"
    }
   ],
   "source": [
    "for i in range(len(df)):\n",
    "    x=df['Artist Name'][i]\n",
    "    y=x.replace(' lyrics','')\n",
    "    df['Artist Name'][i]=y\n",
    "df.head()"
   ]
  },
  {
   "cell_type": "code",
   "execution_count": 9,
   "metadata": {},
   "outputs": [
    {
     "data": {
      "text/plain": [
       "'https://www.lyricsmode.com/lyrics/a/atif_aslam/aadat.html'"
      ]
     },
     "execution_count": 9,
     "metadata": {},
     "output_type": "execute_result"
    }
   ],
   "source": [
    "df['Lyrics Link'][0]"
   ]
  },
  {
   "cell_type": "code",
   "execution_count": 10,
   "metadata": {},
   "outputs": [],
   "source": [
    "df[\"Lyrics\"]=df['Index']\n",
    "for i in range(len(df)):\n",
    "    url=df['Lyrics Link'][i]\n",
    "    response=requests.get(url, {\"User-Agent\": ua.random})\n",
    "    soup=BeautifulSoup(response.text,'lxml')\n",
    "    content=soup.find('div',class_=\"js-new-text-select\")\n",
    "    if(content):\n",
    "        lyrics=content.text.strip()\n",
    "        if(lyrics):\n",
    "            df['Lyrics'][i]=lyrics\n",
    "        else:\n",
    "            df['Lyrics'][i]='Not Available'\n",
    "    else:\n",
    "        df['Lyrics'][i]='Not Available'\n",
    "    "
   ]
  },
  {
   "cell_type": "code",
   "execution_count": 11,
   "metadata": {},
   "outputs": [
    {
     "data": {
      "text/plain": [
       "(4062, 5)"
      ]
     },
     "execution_count": 11,
     "metadata": {},
     "output_type": "execute_result"
    }
   ],
   "source": [
    "df.shape"
   ]
  },
  {
   "cell_type": "code",
   "execution_count": 12,
   "metadata": {},
   "outputs": [
    {
     "data": {
      "text/html": [
       "<div>\n",
       "<style scoped>\n",
       "    .dataframe tbody tr th:only-of-type {\n",
       "        vertical-align: middle;\n",
       "    }\n",
       "\n",
       "    .dataframe tbody tr th {\n",
       "        vertical-align: top;\n",
       "    }\n",
       "\n",
       "    .dataframe thead th {\n",
       "        text-align: right;\n",
       "    }\n",
       "</style>\n",
       "<table border=\"1\" class=\"dataframe\">\n",
       "  <thead>\n",
       "    <tr style=\"text-align: right;\">\n",
       "      <th></th>\n",
       "      <th>Index</th>\n",
       "      <th>Artist Name</th>\n",
       "      <th>Song Name</th>\n",
       "      <th>Lyrics Link</th>\n",
       "      <th>Lyrics</th>\n",
       "    </tr>\n",
       "  </thead>\n",
       "  <tbody>\n",
       "    <tr>\n",
       "      <td>0</td>\n",
       "      <td>a</td>\n",
       "      <td>Atif Aslam</td>\n",
       "      <td>Aadat</td>\n",
       "      <td>https://www.lyricsmode.com/lyrics/a/atif_aslam...</td>\n",
       "      <td>Juda hoke bhi... tu mujhme kahi baki hainnn......</td>\n",
       "    </tr>\n",
       "    <tr>\n",
       "      <td>1</td>\n",
       "      <td>a</td>\n",
       "      <td>Atif Aslam</td>\n",
       "      <td>Tere Liye</td>\n",
       "      <td>https://www.lyricsmode.com/lyrics/a/atif_aslam...</td>\n",
       "      <td>Jaagi jaagi soyi na main saari raat, tere liye...</td>\n",
       "    </tr>\n",
       "    <tr>\n",
       "      <td>2</td>\n",
       "      <td>a</td>\n",
       "      <td>Atif Aslam</td>\n",
       "      <td>Tera Hone Laga Hoon</td>\n",
       "      <td>https://www.lyricsmode.com/lyrics/a/atif_aslam...</td>\n",
       "      <td>Shining In The Shade In Sun Like A Pearl Up On...</td>\n",
       "    </tr>\n",
       "    <tr>\n",
       "      <td>3</td>\n",
       "      <td>a</td>\n",
       "      <td>Atif Aslam</td>\n",
       "      <td>Woh Lamhe</td>\n",
       "      <td>https://www.lyricsmode.com/lyrics/a/atif_aslam...</td>\n",
       "      <td>Wo Lamhe, wo baatein\\r\\nKoi na jaane\\r\\nThi ka...</td>\n",
       "    </tr>\n",
       "    <tr>\n",
       "      <td>4</td>\n",
       "      <td>a</td>\n",
       "      <td>Atif Aslam</td>\n",
       "      <td>Jeena Jeena</td>\n",
       "      <td>https://www.lyricsmode.com/lyrics/a/atif_aslam...</td>\n",
       "      <td>Dehleez pe mere dil ki\\r\\nJo rakhe hain tune k...</td>\n",
       "    </tr>\n",
       "  </tbody>\n",
       "</table>\n",
       "</div>"
      ],
      "text/plain": [
       "  Index Artist Name            Song Name  \\\n",
       "0     a  Atif Aslam                Aadat   \n",
       "1     a  Atif Aslam            Tere Liye   \n",
       "2     a  Atif Aslam  Tera Hone Laga Hoon   \n",
       "3     a  Atif Aslam            Woh Lamhe   \n",
       "4     a  Atif Aslam          Jeena Jeena   \n",
       "\n",
       "                                         Lyrics Link  \\\n",
       "0  https://www.lyricsmode.com/lyrics/a/atif_aslam...   \n",
       "1  https://www.lyricsmode.com/lyrics/a/atif_aslam...   \n",
       "2  https://www.lyricsmode.com/lyrics/a/atif_aslam...   \n",
       "3  https://www.lyricsmode.com/lyrics/a/atif_aslam...   \n",
       "4  https://www.lyricsmode.com/lyrics/a/atif_aslam...   \n",
       "\n",
       "                                              Lyrics  \n",
       "0  Juda hoke bhi... tu mujhme kahi baki hainnn......  \n",
       "1  Jaagi jaagi soyi na main saari raat, tere liye...  \n",
       "2  Shining In The Shade In Sun Like A Pearl Up On...  \n",
       "3  Wo Lamhe, wo baatein\\r\\nKoi na jaane\\r\\nThi ka...  \n",
       "4  Dehleez pe mere dil ki\\r\\nJo rakhe hain tune k...  "
      ]
     },
     "execution_count": 12,
     "metadata": {},
     "output_type": "execute_result"
    }
   ],
   "source": [
    "df.head()"
   ]
  },
  {
   "cell_type": "code",
   "execution_count": 13,
   "metadata": {},
   "outputs": [
    {
     "data": {
      "text/plain": [
       "Index          0\n",
       "Artist Name    0\n",
       "Song Name      0\n",
       "Lyrics Link    0\n",
       "Lyrics         0\n",
       "dtype: int64"
      ]
     },
     "execution_count": 13,
     "metadata": {},
     "output_type": "execute_result"
    }
   ],
   "source": [
    "df.isnull().sum()"
   ]
  },
  {
   "cell_type": "code",
   "execution_count": 18,
   "metadata": {},
   "outputs": [],
   "source": [
    "df=df[~(df['Lyrics']=='Not Available')]"
   ]
  },
  {
   "cell_type": "code",
   "execution_count": 20,
   "metadata": {},
   "outputs": [],
   "source": [
    "df=df.reset_index()\n",
    "df.drop('index',axis=1,inplace=True)"
   ]
  },
  {
   "cell_type": "code",
   "execution_count": 21,
   "metadata": {},
   "outputs": [
    {
     "data": {
      "text/html": [
       "<div>\n",
       "<style scoped>\n",
       "    .dataframe tbody tr th:only-of-type {\n",
       "        vertical-align: middle;\n",
       "    }\n",
       "\n",
       "    .dataframe tbody tr th {\n",
       "        vertical-align: top;\n",
       "    }\n",
       "\n",
       "    .dataframe thead th {\n",
       "        text-align: right;\n",
       "    }\n",
       "</style>\n",
       "<table border=\"1\" class=\"dataframe\">\n",
       "  <thead>\n",
       "    <tr style=\"text-align: right;\">\n",
       "      <th></th>\n",
       "      <th>Index</th>\n",
       "      <th>Artist Name</th>\n",
       "      <th>Song Name</th>\n",
       "      <th>Lyrics Link</th>\n",
       "      <th>Lyrics</th>\n",
       "    </tr>\n",
       "  </thead>\n",
       "  <tbody>\n",
       "    <tr>\n",
       "      <td>0</td>\n",
       "      <td>a</td>\n",
       "      <td>Atif Aslam</td>\n",
       "      <td>Aadat</td>\n",
       "      <td>https://www.lyricsmode.com/lyrics/a/atif_aslam...</td>\n",
       "      <td>Juda hoke bhi... tu mujhme kahi baki hainnn......</td>\n",
       "    </tr>\n",
       "    <tr>\n",
       "      <td>1</td>\n",
       "      <td>a</td>\n",
       "      <td>Atif Aslam</td>\n",
       "      <td>Tere Liye</td>\n",
       "      <td>https://www.lyricsmode.com/lyrics/a/atif_aslam...</td>\n",
       "      <td>Jaagi jaagi soyi na main saari raat, tere liye...</td>\n",
       "    </tr>\n",
       "    <tr>\n",
       "      <td>2</td>\n",
       "      <td>a</td>\n",
       "      <td>Atif Aslam</td>\n",
       "      <td>Tera Hone Laga Hoon</td>\n",
       "      <td>https://www.lyricsmode.com/lyrics/a/atif_aslam...</td>\n",
       "      <td>Shining In The Shade In Sun Like A Pearl Up On...</td>\n",
       "    </tr>\n",
       "    <tr>\n",
       "      <td>3</td>\n",
       "      <td>a</td>\n",
       "      <td>Atif Aslam</td>\n",
       "      <td>Woh Lamhe</td>\n",
       "      <td>https://www.lyricsmode.com/lyrics/a/atif_aslam...</td>\n",
       "      <td>Wo Lamhe, wo baatein\\r\\nKoi na jaane\\r\\nThi ka...</td>\n",
       "    </tr>\n",
       "    <tr>\n",
       "      <td>4</td>\n",
       "      <td>a</td>\n",
       "      <td>Atif Aslam</td>\n",
       "      <td>Jeena Jeena</td>\n",
       "      <td>https://www.lyricsmode.com/lyrics/a/atif_aslam...</td>\n",
       "      <td>Dehleez pe mere dil ki\\r\\nJo rakhe hain tune k...</td>\n",
       "    </tr>\n",
       "  </tbody>\n",
       "</table>\n",
       "</div>"
      ],
      "text/plain": [
       "  Index Artist Name            Song Name  \\\n",
       "0     a  Atif Aslam                Aadat   \n",
       "1     a  Atif Aslam            Tere Liye   \n",
       "2     a  Atif Aslam  Tera Hone Laga Hoon   \n",
       "3     a  Atif Aslam            Woh Lamhe   \n",
       "4     a  Atif Aslam          Jeena Jeena   \n",
       "\n",
       "                                         Lyrics Link  \\\n",
       "0  https://www.lyricsmode.com/lyrics/a/atif_aslam...   \n",
       "1  https://www.lyricsmode.com/lyrics/a/atif_aslam...   \n",
       "2  https://www.lyricsmode.com/lyrics/a/atif_aslam...   \n",
       "3  https://www.lyricsmode.com/lyrics/a/atif_aslam...   \n",
       "4  https://www.lyricsmode.com/lyrics/a/atif_aslam...   \n",
       "\n",
       "                                              Lyrics  \n",
       "0  Juda hoke bhi... tu mujhme kahi baki hainnn......  \n",
       "1  Jaagi jaagi soyi na main saari raat, tere liye...  \n",
       "2  Shining In The Shade In Sun Like A Pearl Up On...  \n",
       "3  Wo Lamhe, wo baatein\\r\\nKoi na jaane\\r\\nThi ka...  \n",
       "4  Dehleez pe mere dil ki\\r\\nJo rakhe hain tune k...  "
      ]
     },
     "execution_count": 21,
     "metadata": {},
     "output_type": "execute_result"
    }
   ],
   "source": [
    "df.head()"
   ]
  },
  {
   "cell_type": "code",
   "execution_count": 22,
   "metadata": {},
   "outputs": [
    {
     "data": {
      "text/html": [
       "<div>\n",
       "<style scoped>\n",
       "    .dataframe tbody tr th:only-of-type {\n",
       "        vertical-align: middle;\n",
       "    }\n",
       "\n",
       "    .dataframe tbody tr th {\n",
       "        vertical-align: top;\n",
       "    }\n",
       "\n",
       "    .dataframe thead th {\n",
       "        text-align: right;\n",
       "    }\n",
       "</style>\n",
       "<table border=\"1\" class=\"dataframe\">\n",
       "  <thead>\n",
       "    <tr style=\"text-align: right;\">\n",
       "      <th></th>\n",
       "      <th>Artist Name</th>\n",
       "      <th>Song Name</th>\n",
       "      <th>Lyrics</th>\n",
       "    </tr>\n",
       "  </thead>\n",
       "  <tbody>\n",
       "    <tr>\n",
       "      <td>0</td>\n",
       "      <td>Atif Aslam</td>\n",
       "      <td>Aadat</td>\n",
       "      <td>Juda hoke bhi... tu mujhme kahi baki hainnn......</td>\n",
       "    </tr>\n",
       "    <tr>\n",
       "      <td>1</td>\n",
       "      <td>Atif Aslam</td>\n",
       "      <td>Tere Liye</td>\n",
       "      <td>Jaagi jaagi soyi na main saari raat, tere liye...</td>\n",
       "    </tr>\n",
       "    <tr>\n",
       "      <td>2</td>\n",
       "      <td>Atif Aslam</td>\n",
       "      <td>Tera Hone Laga Hoon</td>\n",
       "      <td>Shining In The Shade In Sun Like A Pearl Up On...</td>\n",
       "    </tr>\n",
       "    <tr>\n",
       "      <td>3</td>\n",
       "      <td>Atif Aslam</td>\n",
       "      <td>Woh Lamhe</td>\n",
       "      <td>Wo Lamhe, wo baatein\\r\\nKoi na jaane\\r\\nThi ka...</td>\n",
       "    </tr>\n",
       "    <tr>\n",
       "      <td>4</td>\n",
       "      <td>Atif Aslam</td>\n",
       "      <td>Jeena Jeena</td>\n",
       "      <td>Dehleez pe mere dil ki\\r\\nJo rakhe hain tune k...</td>\n",
       "    </tr>\n",
       "  </tbody>\n",
       "</table>\n",
       "</div>"
      ],
      "text/plain": [
       "  Artist Name            Song Name  \\\n",
       "0  Atif Aslam                Aadat   \n",
       "1  Atif Aslam            Tere Liye   \n",
       "2  Atif Aslam  Tera Hone Laga Hoon   \n",
       "3  Atif Aslam            Woh Lamhe   \n",
       "4  Atif Aslam          Jeena Jeena   \n",
       "\n",
       "                                              Lyrics  \n",
       "0  Juda hoke bhi... tu mujhme kahi baki hainnn......  \n",
       "1  Jaagi jaagi soyi na main saari raat, tere liye...  \n",
       "2  Shining In The Shade In Sun Like A Pearl Up On...  \n",
       "3  Wo Lamhe, wo baatein\\r\\nKoi na jaane\\r\\nThi ka...  \n",
       "4  Dehleez pe mere dil ki\\r\\nJo rakhe hain tune k...  "
      ]
     },
     "execution_count": 22,
     "metadata": {},
     "output_type": "execute_result"
    }
   ],
   "source": [
    "df.drop(['Index','Lyrics Link'],axis=1,inplace=True)\n",
    "df.head()"
   ]
  },
  {
   "cell_type": "code",
   "execution_count": 23,
   "metadata": {},
   "outputs": [
    {
     "data": {
      "text/html": [
       "<div>\n",
       "<style scoped>\n",
       "    .dataframe tbody tr th:only-of-type {\n",
       "        vertical-align: middle;\n",
       "    }\n",
       "\n",
       "    .dataframe tbody tr th {\n",
       "        vertical-align: top;\n",
       "    }\n",
       "\n",
       "    .dataframe thead th {\n",
       "        text-align: right;\n",
       "    }\n",
       "</style>\n",
       "<table border=\"1\" class=\"dataframe\">\n",
       "  <thead>\n",
       "    <tr style=\"text-align: right;\">\n",
       "      <th></th>\n",
       "      <th>Artist Name</th>\n",
       "      <th>Song Name</th>\n",
       "      <th>Lyrics</th>\n",
       "    </tr>\n",
       "  </thead>\n",
       "  <tbody>\n",
       "    <tr>\n",
       "      <td>1584</td>\n",
       "      <td>Josh Groban</td>\n",
       "      <td>Brave</td>\n",
       "      <td>Wake up, wake up, the sun cannot wait for long...</td>\n",
       "    </tr>\n",
       "    <tr>\n",
       "      <td>3201</td>\n",
       "      <td>Simple Plan</td>\n",
       "      <td>Where Is The Love?</td>\n",
       "      <td>[Originally by Black Eyed Peas]\\n\\nWhat's wron...</td>\n",
       "    </tr>\n",
       "    <tr>\n",
       "      <td>2520</td>\n",
       "      <td>Ozzy Osbourne</td>\n",
       "      <td>Paranoid</td>\n",
       "      <td>Finished with my woman 'cause she couldn't hel...</td>\n",
       "    </tr>\n",
       "    <tr>\n",
       "      <td>1266</td>\n",
       "      <td>Godflesh</td>\n",
       "      <td>Baby Blue Eyes</td>\n",
       "      <td>Bury your dreams\\nDrown your skin\\nUseful ruin...</td>\n",
       "    </tr>\n",
       "    <tr>\n",
       "      <td>1110</td>\n",
       "      <td>Grateful Dead</td>\n",
       "      <td>Youngblood</td>\n",
       "      <td>I saw her standing on the corner, yellow ribbo...</td>\n",
       "    </tr>\n",
       "  </tbody>\n",
       "</table>\n",
       "</div>"
      ],
      "text/plain": [
       "        Artist Name           Song Name  \\\n",
       "1584    Josh Groban               Brave   \n",
       "3201    Simple Plan  Where Is The Love?   \n",
       "2520  Ozzy Osbourne            Paranoid   \n",
       "1266       Godflesh      Baby Blue Eyes   \n",
       "1110  Grateful Dead          Youngblood   \n",
       "\n",
       "                                                 Lyrics  \n",
       "1584  Wake up, wake up, the sun cannot wait for long...  \n",
       "3201  [Originally by Black Eyed Peas]\\n\\nWhat's wron...  \n",
       "2520  Finished with my woman 'cause she couldn't hel...  \n",
       "1266  Bury your dreams\\nDrown your skin\\nUseful ruin...  \n",
       "1110  I saw her standing on the corner, yellow ribbo...  "
      ]
     },
     "execution_count": 23,
     "metadata": {},
     "output_type": "execute_result"
    }
   ],
   "source": [
    "from sklearn.utils import shuffle\n",
    "df=shuffle(df)\n",
    "df.head()"
   ]
  },
  {
   "cell_type": "code",
   "execution_count": 24,
   "metadata": {},
   "outputs": [
    {
     "data": {
      "text/html": [
       "<div>\n",
       "<style scoped>\n",
       "    .dataframe tbody tr th:only-of-type {\n",
       "        vertical-align: middle;\n",
       "    }\n",
       "\n",
       "    .dataframe tbody tr th {\n",
       "        vertical-align: top;\n",
       "    }\n",
       "\n",
       "    .dataframe thead th {\n",
       "        text-align: right;\n",
       "    }\n",
       "</style>\n",
       "<table border=\"1\" class=\"dataframe\">\n",
       "  <thead>\n",
       "    <tr style=\"text-align: right;\">\n",
       "      <th></th>\n",
       "      <th>Artist Name</th>\n",
       "      <th>Song Name</th>\n",
       "      <th>Lyrics</th>\n",
       "    </tr>\n",
       "  </thead>\n",
       "  <tbody>\n",
       "    <tr>\n",
       "      <td>0</td>\n",
       "      <td>Josh Groban</td>\n",
       "      <td>Brave</td>\n",
       "      <td>Wake up, wake up, the sun cannot wait for long...</td>\n",
       "    </tr>\n",
       "    <tr>\n",
       "      <td>1</td>\n",
       "      <td>Simple Plan</td>\n",
       "      <td>Where Is The Love?</td>\n",
       "      <td>[Originally by Black Eyed Peas]\\n\\nWhat's wron...</td>\n",
       "    </tr>\n",
       "    <tr>\n",
       "      <td>2</td>\n",
       "      <td>Ozzy Osbourne</td>\n",
       "      <td>Paranoid</td>\n",
       "      <td>Finished with my woman 'cause she couldn't hel...</td>\n",
       "    </tr>\n",
       "    <tr>\n",
       "      <td>3</td>\n",
       "      <td>Godflesh</td>\n",
       "      <td>Baby Blue Eyes</td>\n",
       "      <td>Bury your dreams\\nDrown your skin\\nUseful ruin...</td>\n",
       "    </tr>\n",
       "    <tr>\n",
       "      <td>4</td>\n",
       "      <td>Grateful Dead</td>\n",
       "      <td>Youngblood</td>\n",
       "      <td>I saw her standing on the corner, yellow ribbo...</td>\n",
       "    </tr>\n",
       "  </tbody>\n",
       "</table>\n",
       "</div>"
      ],
      "text/plain": [
       "     Artist Name           Song Name  \\\n",
       "0    Josh Groban               Brave   \n",
       "1    Simple Plan  Where Is The Love?   \n",
       "2  Ozzy Osbourne            Paranoid   \n",
       "3       Godflesh      Baby Blue Eyes   \n",
       "4  Grateful Dead          Youngblood   \n",
       "\n",
       "                                              Lyrics  \n",
       "0  Wake up, wake up, the sun cannot wait for long...  \n",
       "1  [Originally by Black Eyed Peas]\\n\\nWhat's wron...  \n",
       "2  Finished with my woman 'cause she couldn't hel...  \n",
       "3  Bury your dreams\\nDrown your skin\\nUseful ruin...  \n",
       "4  I saw her standing on the corner, yellow ribbo...  "
      ]
     },
     "execution_count": 24,
     "metadata": {},
     "output_type": "execute_result"
    }
   ],
   "source": [
    "df=df.reset_index()\n",
    "df.drop('index',axis=1,inplace=True)\n",
    "df.head()"
   ]
  },
  {
   "cell_type": "code",
   "execution_count": 25,
   "metadata": {},
   "outputs": [],
   "source": [
    "df.to_csv('Song.csv')"
   ]
  },
  {
   "cell_type": "code",
   "execution_count": null,
   "metadata": {},
   "outputs": [],
   "source": []
  }
 ],
 "metadata": {
  "kernelspec": {
   "display_name": "Python 3",
   "language": "python",
   "name": "python3"
  },
  "language_info": {
   "codemirror_mode": {
    "name": "ipython",
    "version": 3
   },
   "file_extension": ".py",
   "mimetype": "text/x-python",
   "name": "python",
   "nbconvert_exporter": "python",
   "pygments_lexer": "ipython3",
   "version": "3.7.4"
  }
 },
 "nbformat": 4,
 "nbformat_minor": 2
}
