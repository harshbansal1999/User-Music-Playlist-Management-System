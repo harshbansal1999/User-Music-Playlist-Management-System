{
 "cells": [
  {
   "cell_type": "code",
   "execution_count": 6,
   "metadata": {},
   "outputs": [],
   "source": [
    "import pandas as pd\n",
    "import numpy as np\n",
    "from nltk.corpus import stopwords\n",
    "import re\n",
    "import string\n",
    "from nltk.stem import WordNetLemmatizer\n",
    "from nltk import word_tokenize\n",
    "from nltk.corpus import stopwords"
   ]
  },
  {
   "cell_type": "code",
   "execution_count": 4,
   "metadata": {},
   "outputs": [
    {
     "data": {
      "text/html": [
       "<div>\n",
       "<style scoped>\n",
       "    .dataframe tbody tr th:only-of-type {\n",
       "        vertical-align: middle;\n",
       "    }\n",
       "\n",
       "    .dataframe tbody tr th {\n",
       "        vertical-align: top;\n",
       "    }\n",
       "\n",
       "    .dataframe thead th {\n",
       "        text-align: right;\n",
       "    }\n",
       "</style>\n",
       "<table border=\"1\" class=\"dataframe\">\n",
       "  <thead>\n",
       "    <tr style=\"text-align: right;\">\n",
       "      <th></th>\n",
       "      <th>Id</th>\n",
       "      <th>Artist Name</th>\n",
       "      <th>Song Name</th>\n",
       "      <th>Lyrics</th>\n",
       "    </tr>\n",
       "  </thead>\n",
       "  <tbody>\n",
       "    <tr>\n",
       "      <td>0</td>\n",
       "      <td>1000</td>\n",
       "      <td>Josh Groban</td>\n",
       "      <td>Brave</td>\n",
       "      <td>Wake up, wake up, the sun cannot wait for long...</td>\n",
       "    </tr>\n",
       "    <tr>\n",
       "      <td>1</td>\n",
       "      <td>1001</td>\n",
       "      <td>Simple Plan</td>\n",
       "      <td>Where Is The Love?</td>\n",
       "      <td>[Originally by Black Eyed Peas]\\n\\nWhat's wron...</td>\n",
       "    </tr>\n",
       "    <tr>\n",
       "      <td>2</td>\n",
       "      <td>1002</td>\n",
       "      <td>Ozzy Osbourne</td>\n",
       "      <td>Paranoid</td>\n",
       "      <td>Finished with my woman 'cause she couldn't hel...</td>\n",
       "    </tr>\n",
       "    <tr>\n",
       "      <td>3</td>\n",
       "      <td>1003</td>\n",
       "      <td>Godflesh</td>\n",
       "      <td>Baby Blue Eyes</td>\n",
       "      <td>Bury your dreams\\nDrown your skin\\nUseful ruin...</td>\n",
       "    </tr>\n",
       "    <tr>\n",
       "      <td>4</td>\n",
       "      <td>1004</td>\n",
       "      <td>Grateful Dead</td>\n",
       "      <td>Youngblood</td>\n",
       "      <td>I saw her standing on the corner, yellow ribbo...</td>\n",
       "    </tr>\n",
       "  </tbody>\n",
       "</table>\n",
       "</div>"
      ],
      "text/plain": [
       "     Id    Artist Name           Song Name  \\\n",
       "0  1000    Josh Groban               Brave   \n",
       "1  1001    Simple Plan  Where Is The Love?   \n",
       "2  1002  Ozzy Osbourne            Paranoid   \n",
       "3  1003       Godflesh      Baby Blue Eyes   \n",
       "4  1004  Grateful Dead          Youngblood   \n",
       "\n",
       "                                              Lyrics  \n",
       "0  Wake up, wake up, the sun cannot wait for long...  \n",
       "1  [Originally by Black Eyed Peas]\\n\\nWhat's wron...  \n",
       "2  Finished with my woman 'cause she couldn't hel...  \n",
       "3  Bury your dreams\\nDrown your skin\\nUseful ruin...  \n",
       "4  I saw her standing on the corner, yellow ribbo...  "
      ]
     },
     "execution_count": 4,
     "metadata": {},
     "output_type": "execute_result"
    }
   ],
   "source": [
    "df = pd.read_csv('Song.csv')\n",
    "df.drop(['Clean Lyrics','Unnamed: 0'],axis=1,inplace=True)\n",
    "df.head()"
   ]
  },
  {
   "cell_type": "code",
   "execution_count": 5,
   "metadata": {},
   "outputs": [
    {
     "data": {
      "text/plain": [
       "Id             0\n",
       "Artist Name    0\n",
       "Song Name      0\n",
       "Lyrics         0\n",
       "dtype: int64"
      ]
     },
     "execution_count": 5,
     "metadata": {},
     "output_type": "execute_result"
    }
   ],
   "source": [
    "df.isnull().sum()"
   ]
  },
  {
   "cell_type": "code",
   "execution_count": 7,
   "metadata": {},
   "outputs": [],
   "source": [
    "stop = stopwords.words('english')\n",
    "stop_words_ = set(stopwords.words('english'))\n",
    "wn = WordNetLemmatizer()"
   ]
  },
  {
   "cell_type": "code",
   "execution_count": 8,
   "metadata": {},
   "outputs": [],
   "source": [
    "def black_txt(token):\n",
    "    return  token not in stop_words_ and token not in list(string.punctuation)  and len(token)>2 "
   ]
  },
  {
   "cell_type": "code",
   "execution_count": 9,
   "metadata": {},
   "outputs": [],
   "source": [
    "def clean_txt(text):\n",
    "    clean_text = []\n",
    "    clean_text2 = []\n",
    "    text = re.sub(\"'\", \"\",text)\n",
    "    text=re.sub(\"(\\\\d|\\\\W)+\",\" \",text) \n",
    "    text = text.replace(\"nbsp\", \"\")\n",
    "    clean_text = [ wn.lemmatize(word, pos=\"v\") for word in word_tokenize(text.lower()) if black_txt(word)]\n",
    "    clean_text2 = [word for word in clean_text if black_txt(word)]\n",
    "    return \" \".join(clean_text2)"
   ]
  },
  {
   "cell_type": "code",
   "execution_count": 10,
   "metadata": {},
   "outputs": [],
   "source": [
    "df['Clean Lyrics'] = df['Lyrics'].apply(clean_txt)"
   ]
  },
  {
   "cell_type": "code",
   "execution_count": 11,
   "metadata": {},
   "outputs": [
    {
     "data": {
      "text/html": [
       "<div>\n",
       "<style scoped>\n",
       "    .dataframe tbody tr th:only-of-type {\n",
       "        vertical-align: middle;\n",
       "    }\n",
       "\n",
       "    .dataframe tbody tr th {\n",
       "        vertical-align: top;\n",
       "    }\n",
       "\n",
       "    .dataframe thead th {\n",
       "        text-align: right;\n",
       "    }\n",
       "</style>\n",
       "<table border=\"1\" class=\"dataframe\">\n",
       "  <thead>\n",
       "    <tr style=\"text-align: right;\">\n",
       "      <th></th>\n",
       "      <th>Id</th>\n",
       "      <th>Artist Name</th>\n",
       "      <th>Song Name</th>\n",
       "      <th>Lyrics</th>\n",
       "      <th>Clean Lyrics</th>\n",
       "    </tr>\n",
       "  </thead>\n",
       "  <tbody>\n",
       "    <tr>\n",
       "      <td>0</td>\n",
       "      <td>1000</td>\n",
       "      <td>Josh Groban</td>\n",
       "      <td>Brave</td>\n",
       "      <td>Wake up, wake up, the sun cannot wait for long...</td>\n",
       "      <td>wake wake sun wait long reach reach fade away ...</td>\n",
       "    </tr>\n",
       "    <tr>\n",
       "      <td>1</td>\n",
       "      <td>1001</td>\n",
       "      <td>Simple Plan</td>\n",
       "      <td>Where Is The Love?</td>\n",
       "      <td>[Originally by Black Eyed Peas]\\n\\nWhat's wron...</td>\n",
       "      <td>originally black eye peas whats wrong world ma...</td>\n",
       "    </tr>\n",
       "    <tr>\n",
       "      <td>2</td>\n",
       "      <td>1002</td>\n",
       "      <td>Ozzy Osbourne</td>\n",
       "      <td>Paranoid</td>\n",
       "      <td>Finished with my woman 'cause she couldn't hel...</td>\n",
       "      <td>finish woman cause couldnt help mind people th...</td>\n",
       "    </tr>\n",
       "    <tr>\n",
       "      <td>3</td>\n",
       "      <td>1003</td>\n",
       "      <td>Godflesh</td>\n",
       "      <td>Baby Blue Eyes</td>\n",
       "      <td>Bury your dreams\\nDrown your skin\\nUseful ruin...</td>\n",
       "      <td>bury dream drown skin useful ruin baby blue ey...</td>\n",
       "    </tr>\n",
       "    <tr>\n",
       "      <td>4</td>\n",
       "      <td>1004</td>\n",
       "      <td>Grateful Dead</td>\n",
       "      <td>Youngblood</td>\n",
       "      <td>I saw her standing on the corner, yellow ribbo...</td>\n",
       "      <td>saw stand corner yellow ribbon hair know goner...</td>\n",
       "    </tr>\n",
       "  </tbody>\n",
       "</table>\n",
       "</div>"
      ],
      "text/plain": [
       "     Id    Artist Name           Song Name  \\\n",
       "0  1000    Josh Groban               Brave   \n",
       "1  1001    Simple Plan  Where Is The Love?   \n",
       "2  1002  Ozzy Osbourne            Paranoid   \n",
       "3  1003       Godflesh      Baby Blue Eyes   \n",
       "4  1004  Grateful Dead          Youngblood   \n",
       "\n",
       "                                              Lyrics  \\\n",
       "0  Wake up, wake up, the sun cannot wait for long...   \n",
       "1  [Originally by Black Eyed Peas]\\n\\nWhat's wron...   \n",
       "2  Finished with my woman 'cause she couldn't hel...   \n",
       "3  Bury your dreams\\nDrown your skin\\nUseful ruin...   \n",
       "4  I saw her standing on the corner, yellow ribbo...   \n",
       "\n",
       "                                        Clean Lyrics  \n",
       "0  wake wake sun wait long reach reach fade away ...  \n",
       "1  originally black eye peas whats wrong world ma...  \n",
       "2  finish woman cause couldnt help mind people th...  \n",
       "3  bury dream drown skin useful ruin baby blue ey...  \n",
       "4  saw stand corner yellow ribbon hair know goner...  "
      ]
     },
     "execution_count": 11,
     "metadata": {},
     "output_type": "execute_result"
    }
   ],
   "source": [
    "df.head()"
   ]
  },
  {
   "cell_type": "code",
   "execution_count": null,
   "metadata": {},
   "outputs": [],
   "source": [
    "df.to_csv('Song.csv')"
   ]
  }
 ],
 "metadata": {
  "kernelspec": {
   "display_name": "Python 3",
   "language": "python",
   "name": "python3"
  },
  "language_info": {
   "codemirror_mode": {
    "name": "ipython",
    "version": 3
   },
   "file_extension": ".py",
   "mimetype": "text/x-python",
   "name": "python",
   "nbconvert_exporter": "python",
   "pygments_lexer": "ipython3",
   "version": "3.7.4"
  }
 },
 "nbformat": 4,
 "nbformat_minor": 2
}
